{
 "cells": [
  {
   "cell_type": "markdown",
   "metadata": {},
   "source": [
    "Write your post here."
   ]
  }
 ],
 "metadata": {
  "kernelspec": {
   "display_name": "Python 3",
   "env": {},
   "language": "python",
   "name": "python3"
  },
  "nikola": {
   "category": "",
   "date": "2017-01-12 21:58:28 UTC+01:00",
   "description": "",
   "link": "",
   "slug": "first-post",
   "tags": "",
   "title": "First Post",
   "type": "text"
  }
 },
 "nbformat": 4,
 "nbformat_minor": 2
}
