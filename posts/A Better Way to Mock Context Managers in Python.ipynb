{
 "cells": [
  {
   "cell_type": "markdown",
   "metadata": {},
   "source": [
    "I came across an interesting way to setup mock objects the other day in python. I was trying to mock out a call to the database. I always have difficulties mocking context managers, because I so often forget that it is the ``return_value`` of ``__enter__`` that needs to be patched. Anyway the code that I was trying to mock looked something like this."
   ]
  },
  {
   "cell_type": "code",
   "execution_count": 2,
   "metadata": {
    "collapsed": false
   },
   "outputs": [],
   "source": [
    "from pymssql import connect\n",
    "\n",
    "def load_data(server, database):\n",
    "    with connect(server, database, user='', password='') as conn:\n",
    "        with conn.cursor() as cursor:\n",
    "            cursor.callproc('pLoadData')\n",
    "            result = cursor.fetchone()\n",
    "            # do some stuff with result\n",
    "            return result"
   ]
  },
  {
   "cell_type": "markdown",
   "metadata": {},
   "source": [
    "After some head scratching and several attempts I managed to get the mock setup to patch in my own result to ``fetchone``."
   ]
  },
  {
   "cell_type": "code",
   "execution_count": 3,
   "metadata": {
    "collapsed": false
   },
   "outputs": [
    {
     "name": "stdout",
     "output_type": "stream",
     "text": [
      "42\n"
     ]
    }
   ],
   "source": [
    "from unittest.mock import patch\n",
    "\n",
    "with patch('pymssql.connect') as connect:\n",
    "\n",
    "    connect.return_value.__enter__.return_value \\\n",
    "        .cursor.return_value.__enter__.return_value \\\n",
    "            .fetchone.return_value = 42\n",
    "\n",
    "    print(load_data('server', 'database'))"
   ]
  },
  {
   "cell_type": "markdown",
   "metadata": {},
   "source": [
    "However this is really cumbersome, error prone and easy to forget. However because of the way ``Mock`` and ``MagicMock`` work (by creating new child mocks for attributes as they are accessed if they don't already exist) we can just invoke the functions in ``with`` blocks until we get to the call to ``fetchone``. The dummy value still needs to be assigned to the ``return_value`` of ``fetchone`` like before. However this time without chaining all those ``__enter__`` and ``return_value``'s. When the function under test is invoked the ``call`` en ``__enter__`` mocks already exist, and are used by the code under test. I reckon this much more readable."
   ]
  },
  {
   "cell_type": "code",
   "execution_count": 4,
   "metadata": {
    "collapsed": false
   },
   "outputs": [
    {
     "name": "stdout",
     "output_type": "stream",
     "text": [
      "42\n"
     ]
    }
   ],
   "source": [
    "with patch('pymssql.connect') as connect:\n",
    "    \n",
    "    with connect() as conn:\n",
    "        with conn.cursor() as cursor:\n",
    "            cursor.fetchone.return_value = 42\n",
    "            \n",
    "    print(load_data('server', 'database'))"
   ]
  }
 ],
 "metadata": {
  "kernelspec": {
   "display_name": "Python 3",
   "language": "python",
   "name": "python3"
  },
  "language_info": {
   "codemirror_mode": {
    "name": "ipython",
    "version": 3.0
   },
   "file_extension": ".py",
   "mimetype": "text/x-python",
   "name": "python",
   "nbconvert_exporter": "python",
   "pygments_lexer": "ipython3",
   "version": "3.6.0"
  },
  "nikola": {
   "category": "",
   "date": "2017-01-12 21:58:28 UTC+01:00",
   "description": "",
   "link": "",
   "slug": "a-better-way-to-mock-context-managers-in-python",
   "tags": "",
   "title": "A Better Way to Mock Context Managers in Python",
   "type": "text"
  }
 },
 "nbformat": 4,
 "nbformat_minor": 0
}